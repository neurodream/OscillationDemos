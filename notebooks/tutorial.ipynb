{
 "cells": [
  {
   "cell_type": "code",
   "execution_count": 1,
   "metadata": {},
   "outputs": [],
   "source": [
    "# get some real data\n",
    "import mne\n",
    "from pathlib import Path\n",
    "import os\n",
    "import numpy as np\n",
    "import matplotlib.pyplot as plt\n",
    "import matplotlib.animation as animation\n",
    "import neurodsp\n",
    "import neurodsp.sim\n",
    "import neurodsp.spectral\n",
    "import fooof\n",
    "import fractions\n",
    "import scipy.signal"
   ]
  },
  {
   "cell_type": "markdown",
   "metadata": {},
   "source": [
    "## MNE data"
   ]
  },
  {
   "cell_type": "code",
   "execution_count": null,
   "metadata": {},
   "outputs": [],
   "source": [
    "example_data_path = Path(r\"F:\\sleep EDF files\\LDEEG\\data\\raw\")\n",
    "example_data_file = example_data_path/os.listdir(example_data_path)[0]\n",
    "raw = mne.io.read_raw_edf(example_data_file)"
   ]
  },
  {
   "cell_type": "code",
   "execution_count": 9,
   "metadata": {},
   "outputs": [
    {
     "name": "stdout",
     "output_type": "stream",
     "text": [
      "NOTE: pick_channels() is a legacy function. New code should use inst.pick(...).\n"
     ]
    },
    {
     "data": {
      "text/plain": [
       "['EEG F7',\n",
       " 'EEG T3',\n",
       " 'EEG T5',\n",
       " 'EEG Fp1',\n",
       " 'EEG F3',\n",
       " 'EEG C3',\n",
       " 'EEG P3',\n",
       " 'EEG O1',\n",
       " 'EEG F8',\n",
       " 'EEG T4',\n",
       " 'EEG T6',\n",
       " 'EEG Fp2',\n",
       " 'EEG F4',\n",
       " 'EEG C4',\n",
       " 'EEG P4',\n",
       " 'EEG O2',\n",
       " 'EEG Fz',\n",
       " 'EEG Cz',\n",
       " 'EEG Pz',\n",
       " 'EEG Oz',\n",
       " 'EEG A1',\n",
       " 'EEG A2']"
      ]
     },
     "execution_count": 9,
     "metadata": {},
     "output_type": "execute_result"
    }
   ],
   "source": [
    "raw.pick_channels([ch for ch in raw.ch_names if ch.startswith(\"EEG \")])\n",
    "raw.ch_names"
   ]
  },
  {
   "cell_type": "code",
   "execution_count": 10,
   "metadata": {},
   "outputs": [
    {
     "name": "stdout",
     "output_type": "stream",
     "text": [
      "Reading 0 ... 5615999  =      0.000 ... 28079.995 secs...\n"
     ]
    },
    {
     "data": {
      "text/html": [
       "<table class=\"table table-hover table-striped table-sm table-responsive small\">\n",
       "    <tr>\n",
       "        <th>Measurement date</th>\n",
       "        \n",
       "        <td>April 02, 2008  00:00:47 GMT</td>\n",
       "        \n",
       "    </tr>\n",
       "    <tr>\n",
       "        <th>Experimenter</th>\n",
       "        \n",
       "        <td>Unknown</td>\n",
       "        \n",
       "    </tr>\n",
       "        <th>Participant</th>\n",
       "        \n",
       "        <td>Unknown</td>\n",
       "        \n",
       "    </tr>\n",
       "    <tr>\n",
       "        <th>Digitized points</th>\n",
       "        \n",
       "        <td>Not available</td>\n",
       "        \n",
       "    </tr>\n",
       "    <tr>\n",
       "        <th>Good channels</th>\n",
       "        <td>22 EEG</td>\n",
       "    </tr>\n",
       "    <tr>\n",
       "        <th>Bad channels</th>\n",
       "        <td>None</td>\n",
       "    </tr>\n",
       "    <tr>\n",
       "        <th>EOG channels</th>\n",
       "        <td>Not available</td>\n",
       "    </tr>\n",
       "    <tr>\n",
       "        <th>ECG channels</th>\n",
       "        <td>Not available</td>\n",
       "    \n",
       "    <tr>\n",
       "        <th>Sampling frequency</th>\n",
       "        <td>200.00 Hz</td>\n",
       "    </tr>\n",
       "    \n",
       "    \n",
       "    <tr>\n",
       "        <th>Highpass</th>\n",
       "        <td>0.00 Hz</td>\n",
       "    </tr>\n",
       "    \n",
       "    \n",
       "    <tr>\n",
       "        <th>Lowpass</th>\n",
       "        <td>100.00 Hz</td>\n",
       "    </tr>\n",
       "    \n",
       "    \n",
       "    \n",
       "    <tr>\n",
       "        <th>Filenames</th>\n",
       "        <td>0_0004401.edf</td>\n",
       "    </tr>\n",
       "    \n",
       "    <tr>\n",
       "        <th>Duration</th>\n",
       "        <td>07:47:60 (HH:MM:SS)</td>\n",
       "    </tr>\n",
       "</table>"
      ],
      "text/plain": [
       "<RawEDF | 0_0004401.edf, 22 x 5616000 (28080.0 s), ~942.6 MB, data loaded>"
      ]
     },
     "execution_count": 10,
     "metadata": {},
     "output_type": "execute_result"
    }
   ],
   "source": [
    "raw.load_data()"
   ]
  },
  {
   "cell_type": "code",
   "execution_count": 11,
   "metadata": {},
   "outputs": [
    {
     "name": "stdout",
     "output_type": "stream",
     "text": [
      "Using qt as 2D backend.\n"
     ]
    },
    {
     "data": {
      "text/plain": [
       "<mne_qt_browser._pg_figure.MNEQtBrowser at 0x29c0caf3760>"
      ]
     },
     "execution_count": 11,
     "metadata": {},
     "output_type": "execute_result"
    }
   ],
   "source": [
    "raw.plot()"
   ]
  },
  {
   "cell_type": "code",
   "execution_count": 15,
   "metadata": {},
   "outputs": [
    {
     "data": {
      "text/plain": [
       "(5616000,)"
      ]
     },
     "execution_count": 15,
     "metadata": {},
     "output_type": "execute_result"
    }
   ],
   "source": [
    "# animation of FOOOF\n",
    "\n",
    "np.shape(raw.get_data()[0])"
   ]
  },
  {
   "cell_type": "code",
   "execution_count": 17,
   "metadata": {},
   "outputs": [
    {
     "data": {
      "text/plain": [
       "[<matplotlib.lines.Line2D at 0x29c0cc62390>]"
      ]
     },
     "execution_count": 17,
     "metadata": {},
     "output_type": "execute_result"
    },
    {
     "data": {
      "image/png": "[encoded data removed]",
      "text/plain": [
       "<Figure size 640x480 with 1 Axes>"
      ]
     },
     "metadata": {},
     "output_type": "display_data"
    }
   ],
   "source": [
    "plt.plot(raw.get_data()[0])"
   ]
  },
  {
   "cell_type": "markdown",
   "metadata": {},
   "source": [
    "## animations"
   ]
  },
  {
   "cell_type": "code",
   "execution_count": 2,
   "metadata": {},
   "outputs": [],
   "source": [
    "%matplotlib tk"
   ]
  },
  {
   "cell_type": "code",
   "execution_count": 3,
   "metadata": {},
   "outputs": [],
   "source": [
    "neurodsp.sim.set_random_seed(10)\n",
    "\n",
    "n_seconds   = 15\n",
    "fs          = 256\n",
    "\n",
    "# alpha peak\n",
    "osc_sig1 = neurodsp.sim.sim_oscillation(n_seconds, fs, freq=10, variance=0.4)\n",
    "# beta peak\n",
    "osc_sig2 = neurodsp.sim.sim_oscillation(n_seconds, fs, freq=20, variance=0.25)\n",
    "# aperiodic component\n",
    "ap_sig = neurodsp.sim.sim_powerlaw(n_seconds, fs, exponent=-2.5, f_range=[1.5, 75])\n",
    "\n",
    "sig_comb = ap_sig + osc_sig1 + osc_sig2\n",
    "\n",
    "freqs, powers = neurodsp.spectral.compute_spectrum(sig_comb, fs)\n",
    "times = neurodsp.utils.create_times(n_seconds, fs)\n",
    "\n",
    "f, ax = plt.subplots(2, 1)\n",
    "neurodsp.plts.plot_time_series(times, sig_comb, ax=ax[0])\n",
    "neurodsp.plts.plot_time_series(freqs, powers, ax=ax[1])\n",
    "ax[1].set_xlim([2.5, 50])\n",
    "plt.show()"
   ]
  },
  {
   "cell_type": "markdown",
   "metadata": {},
   "source": [
    "### IRASA"
   ]
  },
  {
   "cell_type": "code",
   "execution_count": 7,
   "metadata": {},
   "outputs": [],
   "source": [
    "# Check & get the resampling factors, with rounding to avoid floating point precision errors\n",
    "hset = np.arange(1.01, 1.99, 0.01)\n",
    "hset = np.round(hset, 4)\n",
    "\n",
    "# The `nperseg` input needs to be set to lock in the size of the FFT's\n",
    "nperseg = int(4 * fs)\n",
    "\n",
    "# Calculate the original spectrum across the whole signal\n",
    "freqs, psd = neurodsp.spectral.compute_spectrum(sig_comb, fs, nperseg=nperseg) #, **spectrum_kwargs)\n",
    "\n",
    "# Do the IRASA resampling procedure\n",
    "psds = np.zeros((len(hset), *psd.shape))\n",
    "\n",
    "def animate(ind):\n",
    "\n",
    "    for ax in axs: ax.clear()\n",
    "\n",
    "    h_val = hset[ind]\n",
    "\n",
    "    # Get the up-sampling / down-sampling (h, 1/h) factors as integers\n",
    "    rat = fractions.Fraction(str(h_val))\n",
    "    up, dn = rat.numerator, rat.denominator\n",
    "\n",
    "    # Resample signal\n",
    "    sig_up = scipy.signal.resample_poly(sig_comb, up, dn, axis=-1)\n",
    "    sig_dn = scipy.signal.resample_poly(sig_comb, dn, up, axis=-1)\n",
    "\n",
    "    # Calculate the power spectrum, using the same params as original\n",
    "    freqs_up, psd_up = neurodsp.spectral.compute_spectrum(sig_up, h_val * fs, nperseg=nperseg) #, **spectrum_kwargs)\n",
    "    freqs_dn, psd_dn = neurodsp.spectral.compute_spectrum(sig_dn, fs / h_val, nperseg=nperseg) #, **spectrum_kwargs)\n",
    "\n",
    "    # Calculate the geometric mean of h and 1/h\n",
    "    psds[ind, :] = np.sqrt(psd_up * psd_dn)\n",
    "\n",
    "    # Take the median resampled spectra, as an estimate of the aperiodic component\n",
    "    psd_aperiodic = np.median(psds[:ind], axis=0)\n",
    "\n",
    "    # Subtract aperiodic from original, to get the periodic component\n",
    "    psd_periodic = psd - np.median(psds[:ind], axis=0)\n",
    "\n",
    "    fig.suptitle(f\"current resampling factor:\\n{h_val}\")\n",
    "    axs[0].plot(freqs, psd)\n",
    "    axs[0].plot(freqs, psds[ind])\n",
    "    axs[0].set_xlim([2.5, 30])\n",
    "    axs[0].set_ylim([0, 0.7])\n",
    "    axs[0].text(20, 0.5, \"resampled\\nPSD\", fontsize=\"xx-large\")\n",
    "    axs[1].plot(freqs, psd_aperiodic)\n",
    "    axs[1].set_xlim([2.5, 30])\n",
    "    axs[1].set_ylim([0, 0.5])\n",
    "    axs[1].text(20, 0.3, \"median\\n(aperiodic)\", fontsize=\"xx-large\")\n",
    "    axs[2].plot(freqs, psd_periodic)\n",
    "    axs[2].set_xlim([2.5, 30])\n",
    "    axs[2].set_ylim([-0.5, 0.5])\n",
    "    axs[2].text(20, 0.2, \"PSD - median\\n(periodic)\", fontsize=\"xx-large\")\n",
    "\n",
    "fig, axs = plt.subplots(3, 1, figsize=(5, 9), sharex=True)\n",
    "fig.subplots_adjust(hspace=0)\n",
    "ani = animation.FuncAnimation(fig, animate, frames=len(hset), repeat=True)  # increased frames for smoother transition\n",
    "plt.show()\n"
   ]
  },
  {
   "cell_type": "code",
   "execution_count": 8,
   "metadata": {},
   "outputs": [
    {
     "name": "stderr",
     "output_type": "stream",
     "text": [
      "c:\\Users\\a\\miniconda3\\envs\\ld-eeg\\Lib\\site-packages\\numpy\\core\\fromnumeric.py:3464: RuntimeWarning: Mean of empty slice.\n",
      "  return _methods._mean(a, axis=axis, dtype=dtype,\n",
      "c:\\Users\\a\\miniconda3\\envs\\ld-eeg\\Lib\\site-packages\\numpy\\core\\_methods.py:184: RuntimeWarning: invalid value encountered in divide\n",
      "  ret = um.true_divide(\n"
     ]
    },
    {
     "ename": "",
     "evalue": "",
     "output_type": "error",
     "traceback": [
      "\u001b[1;31mThe Kernel crashed while executing code in the the current cell or a previous cell. Please review the code in the cell(s) to identify a possible cause of the failure. Click <a href='https://aka.ms/vscodeJupyterKernelCrash'>here</a> for more info. View Jupyter <a href='command:jupyter.viewOutput'>log</a> for further details."
     ]
    }
   ],
   "source": [
    "ani.save(\"irasa_animation.gif\", writer=animation.PillowWriter(fps=30))"
   ]
  },
  {
   "cell_type": "code",
   "execution_count": 89,
   "metadata": {},
   "outputs": [],
   "source": [
    "plt.figure()\n",
    "plt.plot(signal)\n",
    "plt.show()"
   ]
  },
  {
   "cell_type": "code",
   "execution_count": 60,
   "metadata": {},
   "outputs": [],
   "source": [
    "freqs, spectrum, resampled_signal, new_t = irasa(signal, 1.01)"
   ]
  },
  {
   "cell_type": "code",
   "execution_count": 61,
   "metadata": {},
   "outputs": [
    {
     "data": {
      "text/plain": [
       "array([8.30428719e+11, 2.68423073e+10, 4.59841561e+10, ...,\n",
       "       8.98836692e+09, 4.59841561e+10, 2.68423073e+10])"
      ]
     },
     "execution_count": 61,
     "metadata": {},
     "output_type": "execute_result"
    }
   ],
   "source": [
    "spectrum"
   ]
  },
  {
   "cell_type": "code",
   "execution_count": 64,
   "metadata": {},
   "outputs": [],
   "source": [
    "min_length = min(len(cumulative_spectrum), len(spectrum))\n",
    "cumulative_spectrum[:min_length] += spectrum[:min_length]"
   ]
  },
  {
   "cell_type": "code",
   "execution_count": 66,
   "metadata": {},
   "outputs": [
    {
     "data": {
      "text/plain": [
       "array([1.64449459e+12, 5.31558413e+10, 9.10623060e+10, ...,\n",
       "       8.82183140e+09, 4.50946034e+10, 2.63354354e+10])"
      ]
     },
     "execution_count": 66,
     "metadata": {},
     "output_type": "execute_result"
    }
   ],
   "source": [
    "cumulative_spectrum"
   ]
  },
  {
   "cell_type": "code",
   "execution_count": null,
   "metadata": {},
   "outputs": [],
   "source": []
  }
 ],
 "metadata": {
  "kernelspec": {
   "display_name": "ld-eeg",
   "language": "python",
   "name": "python3"
  },
  "language_info": {
   "codemirror_mode": {
    "name": "ipython",
    "version": 3
   },
   "file_extension": ".py",
   "mimetype": "text/x-python",
   "name": "python",
   "nbconvert_exporter": "python",
   "pygments_lexer": "ipython3",
   "version": "3.11.2"
  },
  "orig_nbformat": 4
 },
 "nbformat": 4,
 "nbformat_minor": 2
}
